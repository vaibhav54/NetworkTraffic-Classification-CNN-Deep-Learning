{
  "nbformat": 4,
  "nbformat_minor": 0,
  "metadata": {
    "colab": {
      "name": "NetworkTraffic.ipynb",
      "provenance": [],
      "authorship_tag": "ABX9TyM+ZxMvWno1vi+2laEqudYg",
      "include_colab_link": true
    },
    "kernelspec": {
      "display_name": "Python 3",
      "name": "python3"
    }
  },
  "cells": [
    {
      "cell_type": "markdown",
      "metadata": {
        "id": "view-in-github",
        "colab_type": "text"
      },
      "source": [
        "<a href=\"https://colab.research.google.com/github/vaibhav54/NetworkTraffic-Classification-CNN-Deep-Learning/blob/main/NetworkTraffic.ipynb\" target=\"_parent\"><img src=\"https://colab.research.google.com/assets/colab-badge.svg\" alt=\"Open In Colab\"/></a>"
      ]
    },
    {
      "cell_type": "code",
      "metadata": {
        "colab": {
          "base_uri": "https://localhost:8080/"
        },
        "id": "GNml-sSAu8M6",
        "outputId": "591e362e-dc2c-4ec6-8604-bc57828eb65b"
      },
      "source": [
        "from google.colab import drive\n",
        "drive.mount('/content/drive')"
      ],
      "execution_count": null,
      "outputs": [
        {
          "output_type": "stream",
          "text": [
            "Drive already mounted at /content/drive; to attempt to forcibly remount, call drive.mount(\"/content/drive\", force_remount=True).\n"
          ],
          "name": "stdout"
        }
      ]
    },
    {
      "cell_type": "code",
      "metadata": {
        "id": "viq2ZUYqvq4H"
      },
      "source": [
        "!unzip '/content/drive/MyDrive/4_Png.zip'"
      ],
      "execution_count": null,
      "outputs": []
    },
    {
      "cell_type": "code",
      "metadata": {
        "id": "ufeBlUkuu-h-"
      },
      "source": [
        "import cv2                                         \n",
        "import numpy as np                                  \n",
        "import os                                          \n",
        "from random import shuffle                          \n",
        "from keras.models import Sequential                 \n",
        "from keras.layers import Dense, Conv2D, MaxPooling2D, Dropout, Flatten,Activation\n",
        "from keras.optimizers import Adam\n",
        "from keras.preprocessing import image              \n",
        "import matplotlib.pyplot as plt                    \n",
        "import warnings\n",
        "warnings.filterwarnings('ignore')\n",
        "import os\n",
        "from tqdm import tqdm\n",
        "import matplotlib.pyplot as plt\n"
      ],
      "execution_count": null,
      "outputs": []
    },
    {
      "cell_type": "code",
      "metadata": {
        "id": "Y7czjyOlvPLw"
      },
      "source": [
        "TRAIN_DIR = '/content/4_Png/Train'\n",
        "TEST_DIR = '/content/4_Png/Test'"
      ],
      "execution_count": null,
      "outputs": []
    },
    {
      "cell_type": "code",
      "metadata": {
        "id": "Lzl5zTFqxEi2"
      },
      "source": [
        "train_labels, train_images = [], []\n",
        "test_labels, test_images = [], []"
      ],
      "execution_count": null,
      "outputs": []
    },
    {
      "cell_type": "code",
      "metadata": {
        "id": "ltZ8toAVwWJ0"
      },
      "source": [
        "def  create_trainData(DIR):\n",
        "     for folder in tqdm(os.listdir(DIR)):\n",
        "            for file in (os.listdir(os.path.join(DIR,folder))):\n",
        "                if file.endswith(\"png\"):\n",
        "\n",
        "    #                 image_names.append(os.path.join(TRAIN_DIR,folder,file))\n",
        "                    train_labels.append(folder)\n",
        "                    img = cv2.imread(os.path.join(DIR,folder,file))\n",
        "                    train_images.append(img)\n",
        "                else:\n",
        "                    continue"
      ],
      "execution_count": null,
      "outputs": []
    },
    {
      "cell_type": "code",
      "metadata": {
        "id": "IVg1sE9vwfxr"
      },
      "source": [
        "def  create_testData(DIR):\n",
        "     for folder in tqdm(os.listdir(DIR)):\n",
        "            for file in (os.listdir(os.path.join(DIR,folder))):\n",
        "                if file.endswith(\"png\"):\n",
        "\n",
        "    #                 image_names.append(os.path.join(TRAIN_DIR,folder,file))\n",
        "                    test_labels.append(folder)\n",
        "                    img = cv2.imread(os.path.join(DIR,folder,file))\n",
        "                    test_images.append(img)\n",
        "                else:\n",
        "                    continue"
      ],
      "execution_count": null,
      "outputs": []
    },
    {
      "cell_type": "code",
      "metadata": {
        "colab": {
          "base_uri": "https://localhost:8080/"
        },
        "id": "Bu_17WDHxpv3",
        "outputId": "6c03d348-7b2e-44d9-e950-fbe7b7928824"
      },
      "source": [
        "create_trainData(TRAIN_DIR)\n",
        "create_testData(TEST_DIR)"
      ],
      "execution_count": null,
      "outputs": [
        {
          "output_type": "stream",
          "text": [
            "100%|██████████| 20/20 [00:06<00:00,  2.90it/s]\n",
            "100%|██████████| 20/20 [00:00<00:00, 25.24it/s]\n"
          ],
          "name": "stderr"
        }
      ]
    },
    {
      "cell_type": "code",
      "metadata": {
        "id": "yPfYWHBkyfc6"
      },
      "source": [
        "train_images = np.array(train_images)\n",
        "test_images = np.array(test_images)"
      ],
      "execution_count": null,
      "outputs": []
    },
    {
      "cell_type": "code",
      "metadata": {
        "colab": {
          "base_uri": "https://localhost:8080/"
        },
        "id": "pnOEvr8f2qJj",
        "outputId": "959cb867-5424-4eb2-b93c-6e9fa25b4b9a"
      },
      "source": [
        "# train_images[0]/255\n",
        "# len(train_images)"
      ],
      "execution_count": null,
      "outputs": [
        {
          "output_type": "execute_result",
          "data": {
            "text/plain": [
              "182267"
            ]
          },
          "metadata": {
            "tags": []
          },
          "execution_count": 34
        }
      ]
    }
  ]
}